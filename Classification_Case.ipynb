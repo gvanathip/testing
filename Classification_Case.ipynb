{
  "nbformat": 4,
  "nbformat_minor": 0,
  "metadata": {
    "colab": {
      "name": "Classification_Case.ipynb",
      "private_outputs": true,
      "provenance": [],
      "collapsed_sections": [],
      "machine_shape": "hm",
      "authorship_tag": "ABX9TyOd85q+eQ99KWqxZMfELTzm",
      "include_colab_link": true
    },
    "kernelspec": {
      "name": "python3",
      "display_name": "Python 3"
    },
    "language_info": {
      "name": "python"
    },
    "accelerator": "GPU",
    "gpuClass": "standard"
  },
  "cells": [
    {
      "cell_type": "markdown",
      "metadata": {
        "id": "view-in-github",
        "colab_type": "text"
      },
      "source": [
        "<a href=\"https://colab.research.google.com/github/gvanathip/testing/blob/main/Classification_Case.ipynb\" target=\"_parent\"><img src=\"https://colab.research.google.com/assets/colab-badge.svg\" alt=\"Open In Colab\"/></a>"
      ]
    },
    {
      "cell_type": "code",
      "execution_count": null,
      "metadata": {
        "id": "vCP8WE39uEDD"
      },
      "outputs": [],
      "source": [
        "import pandas as pd\n",
        "import seaborn as sns\n",
        "from datetime import datetime\n",
        "import numpy as np\n",
        "\n",
        "import matplotlib.pyplot as plt\n",
        "from sklearn import model_selection\n",
        "from sklearn.linear_model import LogisticRegression\n",
        "from sklearn.tree import DecisionTreeClassifier\n",
        "from sklearn.neighbors import KNeighborsClassifier\n",
        "from sklearn.discriminant_analysis import LinearDiscriminantAnalysis\n",
        "from sklearn.naive_bayes import GaussianNB\n",
        "from sklearn.svm import SVC\n",
        "from sklearn.model_selection import train_test_split\n",
        "\n",
        "from sklearn import preprocessing\n",
        "\n",
        "plt.style.use('ggplot')"
      ]
    },
    {
      "cell_type": "code",
      "source": [
        "from google.colab import files"
      ],
      "metadata": {
        "id": "9ue_z1YFcWww"
      },
      "execution_count": null,
      "outputs": []
    },
    {
      "cell_type": "code",
      "source": [
        "#download dataset.csv at https://digitalventures-my.sharepoint.com/personal/sarunthorn_t_dv_co_th/_layouts/15/onedrive.aspx?id=%2Fpersonal%2Fsarunthorn%5Ft%5Fdv%5Fco%5Fth%2FDocuments%2FTest%20for%20Data%20scientist%20role&ga=1"
      ],
      "metadata": {
        "id": "U6paLyzHrbBN"
      },
      "execution_count": null,
      "outputs": []
    },
    {
      "cell_type": "code",
      "source": [
        "uploaded = files.upload() #upload dataset.csv from local"
      ],
      "metadata": {
        "id": "7LWCVw_RddBa"
      },
      "execution_count": null,
      "outputs": []
    },
    {
      "cell_type": "code",
      "source": [
        "df = pd.read_csv('dataset.csv',on_bad_lines='skip')"
      ],
      "metadata": {
        "id": "jVFTW93rnGYe"
      },
      "execution_count": null,
      "outputs": []
    },
    {
      "cell_type": "code",
      "source": [
        "df.head()"
      ],
      "metadata": {
        "id": "lHcnW_IWrUFT"
      },
      "execution_count": null,
      "outputs": []
    },
    {
      "cell_type": "markdown",
      "source": [
        "# EDA and Data Cleansing"
      ],
      "metadata": {
        "id": "O2pqviDR0OXo"
      }
    },
    {
      "cell_type": "code",
      "source": [
        "set(df.term)"
      ],
      "metadata": {
        "id": "ogfbjryR6DaF"
      },
      "execution_count": null,
      "outputs": []
    },
    {
      "cell_type": "code",
      "source": [
        "df[df.term.isna()]"
      ],
      "metadata": {
        "id": "d3QRX1566HIV"
      },
      "execution_count": null,
      "outputs": []
    },
    {
      "cell_type": "code",
      "source": [
        "df.info()"
      ],
      "metadata": {
        "id": "hzsGmDfG6OI0"
      },
      "execution_count": null,
      "outputs": []
    },
    {
      "cell_type": "code",
      "source": [
        "df[pd.to_numeric(df['open_acc'], errors='coerce').isnull()]"
      ],
      "metadata": {
        "id": "JLyFtABe1cib"
      },
      "execution_count": null,
      "outputs": []
    },
    {
      "cell_type": "code",
      "source": [
        "df = df[df.term.notna()]"
      ],
      "metadata": {
        "id": "TohJdxLr65SV"
      },
      "execution_count": null,
      "outputs": []
    },
    {
      "cell_type": "code",
      "source": [
        "df = df[pd.to_numeric(df['open_acc'], errors='coerce').notnull()]"
      ],
      "metadata": {
        "id": "q65jnaTV1_BV"
      },
      "execution_count": null,
      "outputs": []
    },
    {
      "cell_type": "code",
      "source": [
        "df['earliest_cr_line'] = pd.to_datetime(df.earliest_cr_line)"
      ],
      "metadata": {
        "id": "jlwu9nTGsjCw"
      },
      "execution_count": null,
      "outputs": []
    },
    {
      "cell_type": "code",
      "source": [
        "df['tenure_year'] = (pd.to_datetime(\"now\") - df.earliest_cr_line)/ np.timedelta64(1, 'Y')"
      ],
      "metadata": {
        "id": "upfV9raSGs7m"
      },
      "execution_count": null,
      "outputs": []
    },
    {
      "cell_type": "code",
      "source": [
        "df.describe(include='all').T"
      ],
      "metadata": {
        "id": "-ihgiQQV6-Vs"
      },
      "execution_count": null,
      "outputs": []
    },
    {
      "cell_type": "code",
      "source": [
        "df = df.drop(columns=['id', 'address','earliest_cr_line','emp_title','title'])"
      ],
      "metadata": {
        "id": "520jNYDn8hhs"
      },
      "execution_count": null,
      "outputs": []
    },
    {
      "cell_type": "code",
      "source": [
        "df1 = df.apply(pd.to_numeric, errors='ignore')"
      ],
      "metadata": {
        "id": "R7DUCbzB9D-s"
      },
      "execution_count": null,
      "outputs": []
    },
    {
      "cell_type": "code",
      "source": [
        "df1.describe(include='all').T"
      ],
      "metadata": {
        "id": "Wu4ikjKwyjYd"
      },
      "execution_count": null,
      "outputs": []
    },
    {
      "cell_type": "code",
      "source": [
        "df1.info()"
      ],
      "metadata": {
        "id": "HStIaDVkzRZe"
      },
      "execution_count": null,
      "outputs": []
    },
    {
      "cell_type": "markdown",
      "source": [
        "# Imbalance Checking"
      ],
      "metadata": {
        "id": "tMrpHyGc0URH"
      }
    },
    {
      "cell_type": "code",
      "source": [
        "g = sns.countplot(df['loan_status'])\n",
        "#g.set_xticklabels(['Not Fraud','Fraud'])\n",
        "plt.show()"
      ],
      "metadata": {
        "id": "nAPqjI3azr-Z"
      },
      "execution_count": null,
      "outputs": []
    },
    {
      "cell_type": "markdown",
      "source": [
        "# Categorical Data Handling (one hot encoding)"
      ],
      "metadata": {
        "id": "pRk8WXYy0bH6"
      }
    },
    {
      "cell_type": "code",
      "source": [
        "obj_df = df1.drop(columns=['loan_status']).select_dtypes(include=['object']).copy()\n",
        "obj_df.head()"
      ],
      "metadata": {
        "id": "6gouzOc7H6iy"
      },
      "execution_count": null,
      "outputs": []
    },
    {
      "cell_type": "code",
      "source": [
        "obj_df.describe()"
      ],
      "metadata": {
        "id": "q4tArOvUOENZ"
      },
      "execution_count": null,
      "outputs": []
    },
    {
      "cell_type": "code",
      "source": [
        "list(obj_df.columns)"
      ],
      "metadata": {
        "id": "EORcQqVyORcj"
      },
      "execution_count": null,
      "outputs": []
    },
    {
      "cell_type": "code",
      "source": [
        "dm = pd.get_dummies(obj_df,prefix=list(obj_df.columns))"
      ],
      "metadata": {
        "id": "7hJSL7hTIXDy"
      },
      "execution_count": null,
      "outputs": []
    },
    {
      "cell_type": "code",
      "source": [
        "dm"
      ],
      "metadata": {
        "id": "AmwZzTMWOZYq"
      },
      "execution_count": null,
      "outputs": []
    },
    {
      "cell_type": "markdown",
      "source": [
        "# Numerical Data Processing"
      ],
      "metadata": {
        "id": "ScnJbTKt0phG"
      }
    },
    {
      "cell_type": "code",
      "source": [
        "set(df1.loan_status)"
      ],
      "metadata": {
        "id": "pvDCvjJtP0LN"
      },
      "execution_count": null,
      "outputs": []
    },
    {
      "cell_type": "code",
      "source": [
        "df1 = df1.replace({\"loan_status\":{\"Fully Paid\":0,\"Charged Off\":1}})"
      ],
      "metadata": {
        "id": "lfPtH-RmQIUg"
      },
      "execution_count": null,
      "outputs": []
    },
    {
      "cell_type": "code",
      "source": [
        "df2 = df1.select_dtypes(include=['int','float']).copy()"
      ],
      "metadata": {
        "id": "K3xbktqpOmgQ"
      },
      "execution_count": null,
      "outputs": []
    },
    {
      "cell_type": "code",
      "source": [
        "df2"
      ],
      "metadata": {
        "id": "gY1pY9szOqoU"
      },
      "execution_count": null,
      "outputs": []
    },
    {
      "cell_type": "markdown",
      "source": [
        "# Categorical and Numerical Data Integration"
      ],
      "metadata": {
        "id": "jawiJZyY1dUQ"
      }
    },
    {
      "cell_type": "code",
      "source": [
        "df3 = pd.merge(df2, dm, left_index=True, right_index=True)"
      ],
      "metadata": {
        "id": "jtBSq9lVPB1b"
      },
      "execution_count": null,
      "outputs": []
    },
    {
      "cell_type": "code",
      "source": [
        "df3"
      ],
      "metadata": {
        "id": "o4MZF4QhPFYW"
      },
      "execution_count": null,
      "outputs": []
    },
    {
      "cell_type": "code",
      "source": [
        "df3.describe()"
      ],
      "metadata": {
        "id": "LwEJOnjdPHeu"
      },
      "execution_count": null,
      "outputs": []
    },
    {
      "cell_type": "code",
      "source": [
        "def clean_dataset(df):\n",
        "    assert isinstance(df, pd.DataFrame), \"df needs to be a pd.DataFrame\"\n",
        "    df.dropna(inplace=True)\n",
        "    indices_to_keep = ~df.isin([np.nan, np.inf, -np.inf]).any(1)\n",
        "    return df[indices_to_keep].astype(np.float64)\n",
        "\n",
        "#https://stackoverflow.com/questions/31323499/sklearn-error-valueerror-input-contains-nan-infinity-or-a-value-too-large-for"
      ],
      "metadata": {
        "id": "MU0F0gAG1WMN"
      },
      "execution_count": null,
      "outputs": []
    },
    {
      "cell_type": "code",
      "source": [
        "df3 = clean_dataset(df3)"
      ],
      "metadata": {
        "id": "HlCI3YgURJOY"
      },
      "execution_count": null,
      "outputs": []
    },
    {
      "cell_type": "markdown",
      "source": [
        "# Normalization"
      ],
      "metadata": {
        "id": "WMn3XFek1lRO"
      }
    },
    {
      "cell_type": "code",
      "source": [
        "y = df3.loan_status.values"
      ],
      "metadata": {
        "id": "5QJqHXUX16Ex"
      },
      "execution_count": null,
      "outputs": []
    },
    {
      "cell_type": "code",
      "source": [
        "x = df3.drop(columns=['loan_status'])"
      ],
      "metadata": {
        "id": "TfX7_EtH2Eu8"
      },
      "execution_count": null,
      "outputs": []
    },
    {
      "cell_type": "code",
      "source": [
        "d = preprocessing.normalize(x)\n",
        "scaled_df = pd.DataFrame(d, columns=x.columns)\n",
        "scaled_df.head()"
      ],
      "metadata": {
        "id": "FzmA3Qc41pBj"
      },
      "execution_count": null,
      "outputs": []
    },
    {
      "cell_type": "code",
      "source": [
        "x = scaled_df.values"
      ],
      "metadata": {
        "id": "IJeNq1gL2Te6"
      },
      "execution_count": null,
      "outputs": []
    },
    {
      "cell_type": "markdown",
      "source": [
        "# Under Sampling to solve imbalance problem"
      ],
      "metadata": {
        "id": "DgPb9vPYyX-A"
      }
    },
    {
      "cell_type": "code",
      "source": [
        "#Synthetic Minority Oversampling Technique (SMOTE)\n",
        "#https://www.analyticsvidhya.com/blog/2020/07/10-techniques-to-deal-with-class-imbalance-in-machine-learning/"
      ],
      "metadata": {
        "id": "s1D4dgPAA992"
      },
      "execution_count": null,
      "outputs": []
    },
    {
      "cell_type": "code",
      "source": [
        "from collections import Counter"
      ],
      "metadata": {
        "id": "kZIWlQ0zRrXz"
      },
      "execution_count": null,
      "outputs": []
    },
    {
      "cell_type": "code",
      "source": [
        "# import library\n",
        "from imblearn.under_sampling import RandomUnderSampler\n",
        "\n",
        "rus = RandomUnderSampler(random_state=42, replacement=True)# fit predictor and target variable\n",
        "x_rus, y_rus = rus.fit_resample(x, y)\n",
        "\n",
        "print('original dataset shape:', Counter(y))\n",
        "print('Resample dataset shape', Counter(y_rus))"
      ],
      "metadata": {
        "id": "w20xHahuSci4"
      },
      "execution_count": null,
      "outputs": []
    },
    {
      "cell_type": "code",
      "source": [
        "X_train, X_test, y_train, y_test = train_test_split(x_rus, y_rus, test_size=0.20) "
      ],
      "metadata": {
        "id": "CjIytIwFRk7J"
      },
      "execution_count": null,
      "outputs": []
    },
    {
      "cell_type": "markdown",
      "source": [
        "## Feature Important and selection"
      ],
      "metadata": {
        "id": "RcY_d4VVxzLi"
      }
    },
    {
      "cell_type": "code",
      "source": [
        "dtree = DecisionTreeClassifier()"
      ],
      "metadata": {
        "id": "K9M5JoJJsn82"
      },
      "execution_count": null,
      "outputs": []
    },
    {
      "cell_type": "code",
      "source": [
        "dtree.fit(X_train, y_train)"
      ],
      "metadata": {
        "id": "hs9qxLysskX5"
      },
      "execution_count": null,
      "outputs": []
    },
    {
      "cell_type": "code",
      "source": [
        "df3.drop(columns=['loan_status']).columns"
      ],
      "metadata": {
        "id": "UraYAP_Mtapb"
      },
      "execution_count": null,
      "outputs": []
    },
    {
      "cell_type": "code",
      "source": [
        "sorted_idx = dtree.feature_importances_.argsort()\n",
        "plt.barh(df3.drop(columns=['loan_status']).columns[sorted_idx], dtree.feature_importances_[sorted_idx])\n",
        "plt.xlabel(\"Decision Tree Feature Importance\")"
      ],
      "metadata": {
        "id": "u-CUbpNkszZQ"
      },
      "execution_count": null,
      "outputs": []
    },
    {
      "cell_type": "code",
      "source": [
        "feature_importance = pd.DataFrame(dtree.feature_importances_[sorted_idx], columns=['importance'])"
      ],
      "metadata": {
        "id": "t3sjZ3mJuBG4"
      },
      "execution_count": null,
      "outputs": []
    },
    {
      "cell_type": "code",
      "source": [
        "feature_importance['name'] = df3.drop(columns=['loan_status']).columns[sorted_idx]"
      ],
      "metadata": {
        "id": "ZZadWSs3uSC9"
      },
      "execution_count": null,
      "outputs": []
    },
    {
      "cell_type": "code",
      "source": [
        "feature_selected = feature_importance[feature_importance.importance>0.02]"
      ],
      "metadata": {
        "id": "sdBfIdUyuWSY"
      },
      "execution_count": null,
      "outputs": []
    },
    {
      "cell_type": "code",
      "source": [
        "feature_selected = feature_selected.sort_values(by=['importance'], ascending=False)"
      ],
      "metadata": {
        "id": "977WiW2bxPfM"
      },
      "execution_count": null,
      "outputs": []
    },
    {
      "cell_type": "code",
      "source": [
        "plt.barh(feature_selected.name, feature_selected.importance)\n",
        "plt.xlabel(\"Decision Tree Feature Importance\")"
      ],
      "metadata": {
        "id": "HHl97wtxw3ri"
      },
      "execution_count": null,
      "outputs": []
    },
    {
      "cell_type": "markdown",
      "source": [
        "# renew data only features selection then re split to train test"
      ],
      "metadata": {
        "id": "hq9EE59Fx_aX"
      }
    },
    {
      "cell_type": "code",
      "source": [
        "df4 = df3[feature_selected.name]"
      ],
      "metadata": {
        "id": "rsxbppDex-q8"
      },
      "execution_count": null,
      "outputs": []
    },
    {
      "cell_type": "code",
      "source": [
        "x1 = df4.values"
      ],
      "metadata": {
        "id": "ZHxt1epoxvxE"
      },
      "execution_count": null,
      "outputs": []
    },
    {
      "cell_type": "code",
      "source": [
        "rus = RandomUnderSampler(random_state=42, replacement=True)# fit predictor and target variable\n",
        "x1_rus, y_rus = rus.fit_resample(x1, y)\n",
        "\n",
        "print('original dataset shape:', Counter(y))\n",
        "print('Resample dataset shape', Counter(y_rus))"
      ],
      "metadata": {
        "id": "_FyPUoLayy1O"
      },
      "execution_count": null,
      "outputs": []
    },
    {
      "cell_type": "code",
      "source": [
        "X_train, X_test, y_train, y_test = train_test_split(x1_rus, y_rus, test_size=0.20) "
      ],
      "metadata": {
        "id": "wc4V_W-ay7AV"
      },
      "execution_count": null,
      "outputs": []
    },
    {
      "cell_type": "markdown",
      "source": [
        "# Train models then select the best (highest roc_auc) with kfold"
      ],
      "metadata": {
        "id": "Jo3JskyEy_5-"
      }
    },
    {
      "cell_type": "code",
      "source": [
        "#https://www.projectpro.io/recipes/compare-sklearn-classification-algorithms-in-python"
      ],
      "metadata": {
        "id": "Ffvaj4DscWC1"
      },
      "execution_count": null,
      "outputs": []
    },
    {
      "cell_type": "code",
      "source": [
        "models = []\n",
        "models.append(('LR', LogisticRegression()))\n",
        "models.append(('LDA', LinearDiscriminantAnalysis()))\n",
        "models.append(('KNN', KNeighborsClassifier()))\n",
        "models.append(('CART', DecisionTreeClassifier()))\n",
        "models.append(('NB', GaussianNB()))\n",
        "#models.append(('SVM', SVC()))"
      ],
      "metadata": {
        "id": "Jmkcu0DdTiHm"
      },
      "execution_count": null,
      "outputs": []
    },
    {
      "cell_type": "code",
      "source": [
        "results = []\n",
        "names = []\n",
        "#scoring = 'accuracy'\n",
        "scoring = 'roc_auc'\n",
        "for name, model in models:\n",
        "      kfold = model_selection.KFold(n_splits=3, random_state=50, shuffle=True)\n",
        "      cv_results = model_selection.cross_val_score(model, X_train, y_train, cv=kfold, scoring=scoring)\n",
        "      results.append(cv_results)\n",
        "      names.append(name)\n",
        "      msg = \"%s: %f (%f)\" % (name, cv_results.mean(), cv_results.std())\n",
        "      print(msg)"
      ],
      "metadata": {
        "id": "XSm2EuY4Tsix"
      },
      "execution_count": null,
      "outputs": []
    },
    {
      "cell_type": "code",
      "source": [
        "fig = plt.figure(figsize=(10,10))\n",
        "fig.suptitle('How to compare sklearn classification algorithms')\n",
        "ax = fig.add_subplot(111)\n",
        "plt.boxplot(results)\n",
        "ax.set_xticklabels(names)\n",
        "plt.show()"
      ],
      "metadata": {
        "id": "Ehqg_cV-fPWp"
      },
      "execution_count": null,
      "outputs": []
    },
    {
      "cell_type": "markdown",
      "source": [
        "# Fit Linear Discriminant Aanalysis Model (The best)"
      ],
      "metadata": {
        "id": "nUUq17V527kh"
      }
    },
    {
      "cell_type": "code",
      "source": [
        "clf = LinearDiscriminantAnalysis()"
      ],
      "metadata": {
        "id": "SvcfIcIGTyP7"
      },
      "execution_count": null,
      "outputs": []
    },
    {
      "cell_type": "code",
      "source": [
        "clf.fit(X_train, y_train)"
      ],
      "metadata": {
        "id": "HH94HHZAhQjg"
      },
      "execution_count": null,
      "outputs": []
    },
    {
      "cell_type": "code",
      "source": [
        "import pickle"
      ],
      "metadata": {
        "id": "QSzSfO47hgZ7"
      },
      "execution_count": null,
      "outputs": []
    },
    {
      "cell_type": "markdown",
      "source": [
        "# Save Model"
      ],
      "metadata": {
        "id": "kmKCzO9S3F5H"
      }
    },
    {
      "cell_type": "code",
      "source": [
        "filename = 'finalized_model.sav'\n",
        "pickle.dump(clf, open(filename, 'wb'))"
      ],
      "metadata": {
        "id": "o6pWLxRrhWrI"
      },
      "execution_count": null,
      "outputs": []
    },
    {
      "cell_type": "code",
      "source": [
        ""
      ],
      "metadata": {
        "id": "Duclbj0nkRum"
      },
      "execution_count": null,
      "outputs": []
    }
  ]
}